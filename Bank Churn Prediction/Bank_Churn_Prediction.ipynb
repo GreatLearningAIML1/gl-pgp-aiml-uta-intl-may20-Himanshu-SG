{
  "nbformat": 4,
  "nbformat_minor": 0,
  "metadata": {
    "colab": {
      "name": "Bank Churn Prediction.ipynb",
      "provenance": [],
      "collapsed_sections": []
    },
    "kernelspec": {
      "name": "python3",
      "display_name": "Python 3"
    },
    "accelerator": "GPU"
  },
  "cells": [
    {
      "cell_type": "code",
      "metadata": {
        "id": "NpjyhCNdJOB0",
        "outputId": "3fac2533-4d81-4445-d7f3-78649dadc459",
        "colab": {
          "base_uri": "https://localhost:8080/",
          "height": 34
        }
      },
      "source": [
        "# Mountage of Google Drive\n",
        "\n",
        "from google.colab import drive\n",
        "drive.mount('/content/drive')"
      ],
      "execution_count": 1,
      "outputs": [
        {
          "output_type": "stream",
          "text": [
            "Drive already mounted at /content/drive; to attempt to forcibly remount, call drive.mount(\"/content/drive\", force_remount=True).\n"
          ],
          "name": "stdout"
        }
      ]
    },
    {
      "cell_type": "code",
      "metadata": {
        "id": "V55PIta1L1Ya"
      },
      "source": [
        "# Installation of TensorFlow\n",
        "# Below code is marked as comment. This is required if tensor flow is not installed\n",
        "\n",
        "\n",
        "#!pip install tensorflow==2.3.0 "
      ],
      "execution_count": 2,
      "outputs": []
    },
    {
      "cell_type": "code",
      "metadata": {
        "id": "UFYyMLNSKTaD",
        "outputId": "b8d061a8-e165-4eb1-bcbf-65e368038bcf",
        "colab": {
          "base_uri": "https://localhost:8080/",
          "height": 34
        }
      },
      "source": [
        "import tensorflow as tf\n",
        "print(tf.__version__)"
      ],
      "execution_count": 3,
      "outputs": [
        {
          "output_type": "stream",
          "text": [
            "2.3.0\n"
          ],
          "name": "stdout"
        }
      ]
    },
    {
      "cell_type": "code",
      "metadata": {
        "id": "Bte5HjBCKhUx",
        "outputId": "97f15de5-36a5-4dc7-e0e8-7f793ed72939",
        "colab": {
          "base_uri": "https://localhost:8080/",
          "height": 202
        }
      },
      "source": [
        "# Reading DataSet\n",
        "\n",
        "import pandas as pd\n",
        "import numpy as np\n",
        "import seaborn as sns\n",
        "% matplotlib inline\n",
        "\n",
        "bank_data = pd.read_csv('/content/drive/My Drive/Colab Notebooks/bank.csv')\n",
        "bank_data.head()"
      ],
      "execution_count": 4,
      "outputs": [
        {
          "output_type": "execute_result",
          "data": {
            "text/html": [
              "<div>\n",
              "<style scoped>\n",
              "    .dataframe tbody tr th:only-of-type {\n",
              "        vertical-align: middle;\n",
              "    }\n",
              "\n",
              "    .dataframe tbody tr th {\n",
              "        vertical-align: top;\n",
              "    }\n",
              "\n",
              "    .dataframe thead th {\n",
              "        text-align: right;\n",
              "    }\n",
              "</style>\n",
              "<table border=\"1\" class=\"dataframe\">\n",
              "  <thead>\n",
              "    <tr style=\"text-align: right;\">\n",
              "      <th></th>\n",
              "      <th>RowNumber</th>\n",
              "      <th>CustomerId</th>\n",
              "      <th>Surname</th>\n",
              "      <th>CreditScore</th>\n",
              "      <th>Geography</th>\n",
              "      <th>Gender</th>\n",
              "      <th>Age</th>\n",
              "      <th>Tenure</th>\n",
              "      <th>Balance</th>\n",
              "      <th>NumOfProducts</th>\n",
              "      <th>HasCrCard</th>\n",
              "      <th>IsActiveMember</th>\n",
              "      <th>EstimatedSalary</th>\n",
              "      <th>Exited</th>\n",
              "    </tr>\n",
              "  </thead>\n",
              "  <tbody>\n",
              "    <tr>\n",
              "      <th>0</th>\n",
              "      <td>1</td>\n",
              "      <td>15634602</td>\n",
              "      <td>Hargrave</td>\n",
              "      <td>619</td>\n",
              "      <td>France</td>\n",
              "      <td>Female</td>\n",
              "      <td>42</td>\n",
              "      <td>2</td>\n",
              "      <td>0.00</td>\n",
              "      <td>1</td>\n",
              "      <td>1</td>\n",
              "      <td>1</td>\n",
              "      <td>101348.88</td>\n",
              "      <td>1</td>\n",
              "    </tr>\n",
              "    <tr>\n",
              "      <th>1</th>\n",
              "      <td>2</td>\n",
              "      <td>15647311</td>\n",
              "      <td>Hill</td>\n",
              "      <td>608</td>\n",
              "      <td>Spain</td>\n",
              "      <td>Female</td>\n",
              "      <td>41</td>\n",
              "      <td>1</td>\n",
              "      <td>83807.86</td>\n",
              "      <td>1</td>\n",
              "      <td>0</td>\n",
              "      <td>1</td>\n",
              "      <td>112542.58</td>\n",
              "      <td>0</td>\n",
              "    </tr>\n",
              "    <tr>\n",
              "      <th>2</th>\n",
              "      <td>3</td>\n",
              "      <td>15619304</td>\n",
              "      <td>Onio</td>\n",
              "      <td>502</td>\n",
              "      <td>France</td>\n",
              "      <td>Female</td>\n",
              "      <td>42</td>\n",
              "      <td>8</td>\n",
              "      <td>159660.80</td>\n",
              "      <td>3</td>\n",
              "      <td>1</td>\n",
              "      <td>0</td>\n",
              "      <td>113931.57</td>\n",
              "      <td>1</td>\n",
              "    </tr>\n",
              "    <tr>\n",
              "      <th>3</th>\n",
              "      <td>4</td>\n",
              "      <td>15701354</td>\n",
              "      <td>Boni</td>\n",
              "      <td>699</td>\n",
              "      <td>France</td>\n",
              "      <td>Female</td>\n",
              "      <td>39</td>\n",
              "      <td>1</td>\n",
              "      <td>0.00</td>\n",
              "      <td>2</td>\n",
              "      <td>0</td>\n",
              "      <td>0</td>\n",
              "      <td>93826.63</td>\n",
              "      <td>0</td>\n",
              "    </tr>\n",
              "    <tr>\n",
              "      <th>4</th>\n",
              "      <td>5</td>\n",
              "      <td>15737888</td>\n",
              "      <td>Mitchell</td>\n",
              "      <td>850</td>\n",
              "      <td>Spain</td>\n",
              "      <td>Female</td>\n",
              "      <td>43</td>\n",
              "      <td>2</td>\n",
              "      <td>125510.82</td>\n",
              "      <td>1</td>\n",
              "      <td>1</td>\n",
              "      <td>1</td>\n",
              "      <td>79084.10</td>\n",
              "      <td>0</td>\n",
              "    </tr>\n",
              "  </tbody>\n",
              "</table>\n",
              "</div>"
            ],
            "text/plain": [
              "   RowNumber  CustomerId   Surname  ...  IsActiveMember EstimatedSalary Exited\n",
              "0          1    15634602  Hargrave  ...               1       101348.88      1\n",
              "1          2    15647311      Hill  ...               1       112542.58      0\n",
              "2          3    15619304      Onio  ...               0       113931.57      1\n",
              "3          4    15701354      Boni  ...               0        93826.63      0\n",
              "4          5    15737888  Mitchell  ...               1        79084.10      0\n",
              "\n",
              "[5 rows x 14 columns]"
            ]
          },
          "metadata": {
            "tags": []
          },
          "execution_count": 4
        }
      ]
    },
    {
      "cell_type": "code",
      "metadata": {
        "id": "vqELmMyjJqkz",
        "outputId": "bbaca5d0-4df6-4ea6-f6a7-4bf023db3e6a",
        "colab": {
          "base_uri": "https://localhost:8080/",
          "height": 34
        }
      },
      "source": [
        "# Checking shape of Data\n",
        "bank_data.shape"
      ],
      "execution_count": 5,
      "outputs": [
        {
          "output_type": "execute_result",
          "data": {
            "text/plain": [
              "(10000, 14)"
            ]
          },
          "metadata": {
            "tags": []
          },
          "execution_count": 5
        }
      ]
    },
    {
      "cell_type": "code",
      "metadata": {
        "id": "RqtQCyJsMfOA",
        "outputId": "a35f59c4-01b7-4330-d8d1-c08c14b7449f",
        "colab": {
          "base_uri": "https://localhost:8080/",
          "height": 270
        }
      },
      "source": [
        "# Checking datatypes of Data\n",
        "bank_data.dtypes"
      ],
      "execution_count": 6,
      "outputs": [
        {
          "output_type": "execute_result",
          "data": {
            "text/plain": [
              "RowNumber            int64\n",
              "CustomerId           int64\n",
              "Surname             object\n",
              "CreditScore          int64\n",
              "Geography           object\n",
              "Gender              object\n",
              "Age                  int64\n",
              "Tenure               int64\n",
              "Balance            float64\n",
              "NumOfProducts        int64\n",
              "HasCrCard            int64\n",
              "IsActiveMember       int64\n",
              "EstimatedSalary    float64\n",
              "Exited               int64\n",
              "dtype: object"
            ]
          },
          "metadata": {
            "tags": []
          },
          "execution_count": 6
        }
      ]
    },
    {
      "cell_type": "code",
      "metadata": {
        "id": "AGbYflHsNN_V",
        "outputId": "3b32b204-45b0-477e-af0f-e3cfcd9afa89",
        "colab": {
          "base_uri": "https://localhost:8080/",
          "height": 270
        }
      },
      "source": [
        "# Checking for nulll value in  DataSet\n",
        "bank_data.isnull().sum()"
      ],
      "execution_count": 7,
      "outputs": [
        {
          "output_type": "execute_result",
          "data": {
            "text/plain": [
              "RowNumber          0\n",
              "CustomerId         0\n",
              "Surname            0\n",
              "CreditScore        0\n",
              "Geography          0\n",
              "Gender             0\n",
              "Age                0\n",
              "Tenure             0\n",
              "Balance            0\n",
              "NumOfProducts      0\n",
              "HasCrCard          0\n",
              "IsActiveMember     0\n",
              "EstimatedSalary    0\n",
              "Exited             0\n",
              "dtype: int64"
            ]
          },
          "metadata": {
            "tags": []
          },
          "execution_count": 7
        }
      ]
    },
    {
      "cell_type": "code",
      "metadata": {
        "id": "NoZgCcgWN1cf",
        "outputId": "bf5c8c3c-98e3-4c2d-ab49-d50ff78b347c",
        "colab": {
          "base_uri": "https://localhost:8080/",
          "height": 270
        }
      },
      "source": [
        "# Checking for no of unique in dataset\n",
        "bank_data.nunique()"
      ],
      "execution_count": 8,
      "outputs": [
        {
          "output_type": "execute_result",
          "data": {
            "text/plain": [
              "RowNumber          10000\n",
              "CustomerId         10000\n",
              "Surname             2932\n",
              "CreditScore          460\n",
              "Geography              3\n",
              "Gender                 2\n",
              "Age                   70\n",
              "Tenure                11\n",
              "Balance             6382\n",
              "NumOfProducts          4\n",
              "HasCrCard              2\n",
              "IsActiveMember         2\n",
              "EstimatedSalary     9999\n",
              "Exited                 2\n",
              "dtype: int64"
            ]
          },
          "metadata": {
            "tags": []
          },
          "execution_count": 8
        }
      ]
    },
    {
      "cell_type": "markdown",
      "metadata": {
        "id": "cLUkTuqzOUwN"
      },
      "source": [
        "There are unique Row Number and unique Customer ID. Hence there are no duplicated customer data, However surname may match to many but can be saggregated by customer ID.\n"
      ]
    },
    {
      "cell_type": "code",
      "metadata": {
        "id": "cABDKvAjOr6o"
      },
      "source": [
        "# Dropping columns which are not required in Analysis\n",
        "bank_data.drop(columns=['RowNumber', 'CustomerId', 'Surname'],axis=1, inplace=True)"
      ],
      "execution_count": 9,
      "outputs": []
    },
    {
      "cell_type": "code",
      "metadata": {
        "id": "4splcr3rPcmD",
        "outputId": "1026b6a4-a2d9-412e-ed9b-01359f8e75b3",
        "colab": {
          "base_uri": "https://localhost:8080/",
          "height": 202
        }
      },
      "source": [
        "bank_data.head()"
      ],
      "execution_count": 10,
      "outputs": [
        {
          "output_type": "execute_result",
          "data": {
            "text/html": [
              "<div>\n",
              "<style scoped>\n",
              "    .dataframe tbody tr th:only-of-type {\n",
              "        vertical-align: middle;\n",
              "    }\n",
              "\n",
              "    .dataframe tbody tr th {\n",
              "        vertical-align: top;\n",
              "    }\n",
              "\n",
              "    .dataframe thead th {\n",
              "        text-align: right;\n",
              "    }\n",
              "</style>\n",
              "<table border=\"1\" class=\"dataframe\">\n",
              "  <thead>\n",
              "    <tr style=\"text-align: right;\">\n",
              "      <th></th>\n",
              "      <th>CreditScore</th>\n",
              "      <th>Geography</th>\n",
              "      <th>Gender</th>\n",
              "      <th>Age</th>\n",
              "      <th>Tenure</th>\n",
              "      <th>Balance</th>\n",
              "      <th>NumOfProducts</th>\n",
              "      <th>HasCrCard</th>\n",
              "      <th>IsActiveMember</th>\n",
              "      <th>EstimatedSalary</th>\n",
              "      <th>Exited</th>\n",
              "    </tr>\n",
              "  </thead>\n",
              "  <tbody>\n",
              "    <tr>\n",
              "      <th>0</th>\n",
              "      <td>619</td>\n",
              "      <td>France</td>\n",
              "      <td>Female</td>\n",
              "      <td>42</td>\n",
              "      <td>2</td>\n",
              "      <td>0.00</td>\n",
              "      <td>1</td>\n",
              "      <td>1</td>\n",
              "      <td>1</td>\n",
              "      <td>101348.88</td>\n",
              "      <td>1</td>\n",
              "    </tr>\n",
              "    <tr>\n",
              "      <th>1</th>\n",
              "      <td>608</td>\n",
              "      <td>Spain</td>\n",
              "      <td>Female</td>\n",
              "      <td>41</td>\n",
              "      <td>1</td>\n",
              "      <td>83807.86</td>\n",
              "      <td>1</td>\n",
              "      <td>0</td>\n",
              "      <td>1</td>\n",
              "      <td>112542.58</td>\n",
              "      <td>0</td>\n",
              "    </tr>\n",
              "    <tr>\n",
              "      <th>2</th>\n",
              "      <td>502</td>\n",
              "      <td>France</td>\n",
              "      <td>Female</td>\n",
              "      <td>42</td>\n",
              "      <td>8</td>\n",
              "      <td>159660.80</td>\n",
              "      <td>3</td>\n",
              "      <td>1</td>\n",
              "      <td>0</td>\n",
              "      <td>113931.57</td>\n",
              "      <td>1</td>\n",
              "    </tr>\n",
              "    <tr>\n",
              "      <th>3</th>\n",
              "      <td>699</td>\n",
              "      <td>France</td>\n",
              "      <td>Female</td>\n",
              "      <td>39</td>\n",
              "      <td>1</td>\n",
              "      <td>0.00</td>\n",
              "      <td>2</td>\n",
              "      <td>0</td>\n",
              "      <td>0</td>\n",
              "      <td>93826.63</td>\n",
              "      <td>0</td>\n",
              "    </tr>\n",
              "    <tr>\n",
              "      <th>4</th>\n",
              "      <td>850</td>\n",
              "      <td>Spain</td>\n",
              "      <td>Female</td>\n",
              "      <td>43</td>\n",
              "      <td>2</td>\n",
              "      <td>125510.82</td>\n",
              "      <td>1</td>\n",
              "      <td>1</td>\n",
              "      <td>1</td>\n",
              "      <td>79084.10</td>\n",
              "      <td>0</td>\n",
              "    </tr>\n",
              "  </tbody>\n",
              "</table>\n",
              "</div>"
            ],
            "text/plain": [
              "   CreditScore Geography  Gender  ...  IsActiveMember  EstimatedSalary  Exited\n",
              "0          619    France  Female  ...               1        101348.88       1\n",
              "1          608     Spain  Female  ...               1        112542.58       0\n",
              "2          502    France  Female  ...               0        113931.57       1\n",
              "3          699    France  Female  ...               0         93826.63       0\n",
              "4          850     Spain  Female  ...               1         79084.10       0\n",
              "\n",
              "[5 rows x 11 columns]"
            ]
          },
          "metadata": {
            "tags": []
          },
          "execution_count": 10
        }
      ]
    },
    {
      "cell_type": "code",
      "metadata": {
        "id": "lm28IyJZP6JE",
        "outputId": "5693c92b-c760-43ec-d6ad-c9038ea1445e",
        "colab": {
          "base_uri": "https://localhost:8080/",
          "height": 67
        }
      },
      "source": [
        "bank_data['Gender'].value_counts()"
      ],
      "execution_count": 11,
      "outputs": [
        {
          "output_type": "execute_result",
          "data": {
            "text/plain": [
              "Male      5457\n",
              "Female    4543\n",
              "Name: Gender, dtype: int64"
            ]
          },
          "metadata": {
            "tags": []
          },
          "execution_count": 11
        }
      ]
    },
    {
      "cell_type": "code",
      "metadata": {
        "id": "_Kz2DziFRqwX",
        "outputId": "aa568117-36af-4820-f6c7-668ee7d06e48",
        "colab": {
          "base_uri": "https://localhost:8080/",
          "height": 296
        }
      },
      "source": [
        "sns.histplot(bank_data['Gender'])\n",
        "\n",
        "# We can observe that based on Gender, difference in no of Male and Female Customer are not much"
      ],
      "execution_count": 12,
      "outputs": [
        {
          "output_type": "execute_result",
          "data": {
            "text/plain": [
              "<matplotlib.axes._subplots.AxesSubplot at 0x7f25cf396668>"
            ]
          },
          "metadata": {
            "tags": []
          },
          "execution_count": 12
        },
        {
          "output_type": "display_data",
          "data": {
            "image/png": "[encoded data removed]",
            "text/plain": [
              "<Figure size 432x288 with 1 Axes>"
            ]
          },
          "metadata": {
            "tags": [],
            "needs_background": "light"
          }
        }
      ]
    },
    {
      "cell_type": "code",
      "metadata": {
        "id": "4j4hhU08iMqP",
        "outputId": "7e73c6a4-5de4-45ef-d57d-d228c32264fa",
        "colab": {
          "base_uri": "https://localhost:8080/",
          "height": 118
        }
      },
      "source": [
        "bank_data.groupby(by='Gender')['Exited'].value_counts()"
      ],
      "execution_count": 13,
      "outputs": [
        {
          "output_type": "execute_result",
          "data": {
            "text/plain": [
              "Gender  Exited\n",
              "Female  0         3404\n",
              "        1         1139\n",
              "Male    0         4559\n",
              "        1          898\n",
              "Name: Exited, dtype: int64"
            ]
          },
          "metadata": {
            "tags": []
          },
          "execution_count": 13
        }
      ]
    },
    {
      "cell_type": "code",
      "metadata": {
        "id": "aMBh8xP8kVlV",
        "outputId": "c8e426a0-c369-4d6a-de0b-ea92e516a2da",
        "colab": {
          "base_uri": "https://localhost:8080/",
          "height": 296
        }
      },
      "source": [
        " sns.countplot(x=\"Exited\", hue=\"Gender\", data=bank_data)"
      ],
      "execution_count": 14,
      "outputs": [
        {
          "output_type": "execute_result",
          "data": {
            "text/plain": [
              "<matplotlib.axes._subplots.AxesSubplot at 0x7f25ce053a58>"
            ]
          },
          "metadata": {
            "tags": []
          },
          "execution_count": 14
        },
        {
          "output_type": "display_data",
          "data": {
            "image/png": "[encoded data removed]",
            "text/plain": [
              "<Figure size 432x288 with 1 Axes>"
            ]
          },
          "metadata": {
            "tags": [],
            "needs_background": "light"
          }
        }
      ]
    },
    {
      "cell_type": "code",
      "metadata": {
        "id": "gCMNuyftQTPW",
        "outputId": "3dcbb890-8f9b-4357-beeb-1446c306a92c",
        "colab": {
          "base_uri": "https://localhost:8080/",
          "height": 51
        }
      },
      "source": [
        "Non_Exited=bank_data['Exited'].value_counts()[0]\n",
        "Exited=bank_data['Exited'].value_counts()[1]\n",
        "\n",
        "Non_Exited_perc= (Non_Exited/(Non_Exited + Exited))*100\n",
        "Exited_perc= (Exited/(Non_Exited + Exited))*100\n",
        "\n",
        "print('Exited Customer     % :' ,Exited_perc)\n",
        "print('Non Exited Customer % :' ,Non_Exited_perc)\n"
      ],
      "execution_count": 15,
      "outputs": [
        {
          "output_type": "stream",
          "text": [
            "Exited Customer     % : 20.369999999999997\n",
            "Non Exited Customer % : 79.63\n"
          ],
          "name": "stdout"
        }
      ]
    },
    {
      "cell_type": "markdown",
      "metadata": {
        "id": "WpS0YXHCNhu3"
      },
      "source": [
        "- There are 21% customer out of this complete data set has Exited."
      ]
    },
    {
      "cell_type": "code",
      "metadata": {
        "id": "UT_xvPOCjg8_",
        "outputId": "93bd51c9-176e-4215-d14c-e99b8a2b4da1",
        "colab": {
          "base_uri": "https://localhost:8080/",
          "height": 296
        }
      },
      "source": [
        "sns.countplot(x=\"Geography\", data=bank_data)"
      ],
      "execution_count": 16,
      "outputs": [
        {
          "output_type": "execute_result",
          "data": {
            "text/plain": [
              "<matplotlib.axes._subplots.AxesSubplot at 0x7f25cdb82a20>"
            ]
          },
          "metadata": {
            "tags": []
          },
          "execution_count": 16
        },
        {
          "output_type": "display_data",
          "data": {
            "image/png": "[encoded data removed]",
            "text/plain": [
              "<Figure size 432x288 with 1 Axes>"
            ]
          },
          "metadata": {
            "tags": [],
            "needs_background": "light"
          }
        }
      ]
    },
    {
      "cell_type": "markdown",
      "metadata": {
        "id": "iO7DLegaj7A9"
      },
      "source": [
        "More Number of customers are there in France in compared to Spain and Germany."
      ]
    },
    {
      "cell_type": "code",
      "metadata": {
        "id": "5jJ4DXKBYcIp",
        "outputId": "7ff97d62-eb8a-462c-de3d-a35913a2b7ee",
        "colab": {
          "base_uri": "https://localhost:8080/",
          "height": 152
        }
      },
      "source": [
        "bank_data.groupby(by='Geography')['Exited'].value_counts()"
      ],
      "execution_count": 17,
      "outputs": [
        {
          "output_type": "execute_result",
          "data": {
            "text/plain": [
              "Geography  Exited\n",
              "France     0         4204\n",
              "           1          810\n",
              "Germany    0         1695\n",
              "           1          814\n",
              "Spain      0         2064\n",
              "           1          413\n",
              "Name: Exited, dtype: int64"
            ]
          },
          "metadata": {
            "tags": []
          },
          "execution_count": 17
        }
      ]
    },
    {
      "cell_type": "code",
      "metadata": {
        "id": "AV-_ZsdgkxKc",
        "outputId": "d6878d78-292a-47d6-edb1-c5e19559516e",
        "colab": {
          "base_uri": "https://localhost:8080/",
          "height": 296
        }
      },
      "source": [
        " sns.countplot(x=\"Exited\", hue=\"Geography\", data=bank_data)"
      ],
      "execution_count": 18,
      "outputs": [
        {
          "output_type": "execute_result",
          "data": {
            "text/plain": [
              "<matplotlib.axes._subplots.AxesSubplot at 0x7f25cdb5ca90>"
            ]
          },
          "metadata": {
            "tags": []
          },
          "execution_count": 18
        },
        {
          "output_type": "display_data",
          "data": {
            "image/png": "[encoded data removed]",
            "text/plain": [
              "<Figure size 432x288 with 1 Axes>"
            ]
          },
          "metadata": {
            "tags": [],
            "needs_background": "light"
          }
        }
      ]
    },
    {
      "cell_type": "markdown",
      "metadata": {
        "id": "GAmmj08xYw7S"
      },
      "source": [
        "Looking to the ratio of total no of Customer and total no of customer exiting, we can say that more number of customer has exited from Germany"
      ]
    },
    {
      "cell_type": "markdown",
      "metadata": {
        "id": "qQeHRQKuiRkj"
      },
      "source": [
        "More number of Female Customers have exited Bank in comparison to male customers."
      ]
    },
    {
      "cell_type": "code",
      "metadata": {
        "id": "MDjcGhyom0FG",
        "outputId": "6f4c21a2-d6cd-4bca-e4ef-53e9d244816d",
        "colab": {
          "base_uri": "https://localhost:8080/",
          "height": 279
        }
      },
      "source": [
        "import matplotlib.pyplot as plt\n",
        "sns.histplot(bank_data['Age'][bank_data['Exited']==0],color='blue',label='non-exited')\n",
        "sns.histplot(bank_data['Age'][bank_data['Exited']==1],color='red',label='exited')\n",
        "plt.show()"
      ],
      "execution_count": 19,
      "outputs": [
        {
          "output_type": "display_data",
          "data": {
            "image/png": "[encoded data removed]",
            "text/plain": [
              "<Figure size 432x288 with 1 Axes>"
            ]
          },
          "metadata": {
            "tags": [],
            "needs_background": "light"
          }
        }
      ]
    },
    {
      "cell_type": "markdown",
      "metadata": {
        "id": "VkLQrMaNQxbW"
      },
      "source": [
        "- Non Exited Customer graph(Blue Color) is right skewed. There are some customer who are at agemore than 70 and are still customer\n",
        "- Exited customer graph is like uniform distribution"
      ]
    },
    {
      "cell_type": "code",
      "metadata": {
        "id": "cjJFSMJpZ6ri",
        "outputId": "e837fff1-1de9-48b7-a0a1-80129270c2c9",
        "colab": {
          "base_uri": "https://localhost:8080/",
          "height": 294
        }
      },
      "source": [
        "# Statistics of Data\n",
        "\n",
        "bank_data.describe()"
      ],
      "execution_count": 20,
      "outputs": [
        {
          "output_type": "execute_result",
          "data": {
            "text/html": [
              "<div>\n",
              "<style scoped>\n",
              "    .dataframe tbody tr th:only-of-type {\n",
              "        vertical-align: middle;\n",
              "    }\n",
              "\n",
              "    .dataframe tbody tr th {\n",
              "        vertical-align: top;\n",
              "    }\n",
              "\n",
              "    .dataframe thead th {\n",
              "        text-align: right;\n",
              "    }\n",
              "</style>\n",
              "<table border=\"1\" class=\"dataframe\">\n",
              "  <thead>\n",
              "    <tr style=\"text-align: right;\">\n",
              "      <th></th>\n",
              "      <th>CreditScore</th>\n",
              "      <th>Age</th>\n",
              "      <th>Tenure</th>\n",
              "      <th>Balance</th>\n",
              "      <th>NumOfProducts</th>\n",
              "      <th>HasCrCard</th>\n",
              "      <th>IsActiveMember</th>\n",
              "      <th>EstimatedSalary</th>\n",
              "      <th>Exited</th>\n",
              "    </tr>\n",
              "  </thead>\n",
              "  <tbody>\n",
              "    <tr>\n",
              "      <th>count</th>\n",
              "      <td>10000.000000</td>\n",
              "      <td>10000.000000</td>\n",
              "      <td>10000.000000</td>\n",
              "      <td>10000.000000</td>\n",
              "      <td>10000.000000</td>\n",
              "      <td>10000.00000</td>\n",
              "      <td>10000.000000</td>\n",
              "      <td>10000.000000</td>\n",
              "      <td>10000.000000</td>\n",
              "    </tr>\n",
              "    <tr>\n",
              "      <th>mean</th>\n",
              "      <td>650.528800</td>\n",
              "      <td>38.921800</td>\n",
              "      <td>5.012800</td>\n",
              "      <td>76485.889288</td>\n",
              "      <td>1.530200</td>\n",
              "      <td>0.70550</td>\n",
              "      <td>0.515100</td>\n",
              "      <td>100090.239881</td>\n",
              "      <td>0.203700</td>\n",
              "    </tr>\n",
              "    <tr>\n",
              "      <th>std</th>\n",
              "      <td>96.653299</td>\n",
              "      <td>10.487806</td>\n",
              "      <td>2.892174</td>\n",
              "      <td>62397.405202</td>\n",
              "      <td>0.581654</td>\n",
              "      <td>0.45584</td>\n",
              "      <td>0.499797</td>\n",
              "      <td>57510.492818</td>\n",
              "      <td>0.402769</td>\n",
              "    </tr>\n",
              "    <tr>\n",
              "      <th>min</th>\n",
              "      <td>350.000000</td>\n",
              "      <td>18.000000</td>\n",
              "      <td>0.000000</td>\n",
              "      <td>0.000000</td>\n",
              "      <td>1.000000</td>\n",
              "      <td>0.00000</td>\n",
              "      <td>0.000000</td>\n",
              "      <td>11.580000</td>\n",
              "      <td>0.000000</td>\n",
              "    </tr>\n",
              "    <tr>\n",
              "      <th>25%</th>\n",
              "      <td>584.000000</td>\n",
              "      <td>32.000000</td>\n",
              "      <td>3.000000</td>\n",
              "      <td>0.000000</td>\n",
              "      <td>1.000000</td>\n",
              "      <td>0.00000</td>\n",
              "      <td>0.000000</td>\n",
              "      <td>51002.110000</td>\n",
              "      <td>0.000000</td>\n",
              "    </tr>\n",
              "    <tr>\n",
              "      <th>50%</th>\n",
              "      <td>652.000000</td>\n",
              "      <td>37.000000</td>\n",
              "      <td>5.000000</td>\n",
              "      <td>97198.540000</td>\n",
              "      <td>1.000000</td>\n",
              "      <td>1.00000</td>\n",
              "      <td>1.000000</td>\n",
              "      <td>100193.915000</td>\n",
              "      <td>0.000000</td>\n",
              "    </tr>\n",
              "    <tr>\n",
              "      <th>75%</th>\n",
              "      <td>718.000000</td>\n",
              "      <td>44.000000</td>\n",
              "      <td>7.000000</td>\n",
              "      <td>127644.240000</td>\n",
              "      <td>2.000000</td>\n",
              "      <td>1.00000</td>\n",
              "      <td>1.000000</td>\n",
              "      <td>149388.247500</td>\n",
              "      <td>0.000000</td>\n",
              "    </tr>\n",
              "    <tr>\n",
              "      <th>max</th>\n",
              "      <td>850.000000</td>\n",
              "      <td>92.000000</td>\n",
              "      <td>10.000000</td>\n",
              "      <td>250898.090000</td>\n",
              "      <td>4.000000</td>\n",
              "      <td>1.00000</td>\n",
              "      <td>1.000000</td>\n",
              "      <td>199992.480000</td>\n",
              "      <td>1.000000</td>\n",
              "    </tr>\n",
              "  </tbody>\n",
              "</table>\n",
              "</div>"
            ],
            "text/plain": [
              "        CreditScore           Age  ...  EstimatedSalary        Exited\n",
              "count  10000.000000  10000.000000  ...     10000.000000  10000.000000\n",
              "mean     650.528800     38.921800  ...    100090.239881      0.203700\n",
              "std       96.653299     10.487806  ...     57510.492818      0.402769\n",
              "min      350.000000     18.000000  ...        11.580000      0.000000\n",
              "25%      584.000000     32.000000  ...     51002.110000      0.000000\n",
              "50%      652.000000     37.000000  ...    100193.915000      0.000000\n",
              "75%      718.000000     44.000000  ...    149388.247500      0.000000\n",
              "max      850.000000     92.000000  ...    199992.480000      1.000000\n",
              "\n",
              "[8 rows x 9 columns]"
            ]
          },
          "metadata": {
            "tags": []
          },
          "execution_count": 20
        }
      ]
    },
    {
      "cell_type": "code",
      "metadata": {
        "id": "x_mJ_Y9-iE4w"
      },
      "source": [
        "# Distinguish the features and target variable\n",
        "\n",
        "X= bank_data.drop(columns= 'Exited', axis=1)    # Feature Variable\n",
        "y= bank_data['Exited']                          # Target Variable"
      ],
      "execution_count": 21,
      "outputs": []
    },
    {
      "cell_type": "code",
      "metadata": {
        "id": "VhpoS9DHnhJy",
        "outputId": "4859c0b0-05dc-4372-d3a2-52a0d8bd706a",
        "colab": {
          "base_uri": "https://localhost:8080/",
          "height": 222
        }
      },
      "source": [
        "# Converting categorical variable using one Hot Encoding\n",
        "X= pd.get_dummies(X)\n",
        "X.head()"
      ],
      "execution_count": 22,
      "outputs": [
        {
          "output_type": "execute_result",
          "data": {
            "text/html": [
              "<div>\n",
              "<style scoped>\n",
              "    .dataframe tbody tr th:only-of-type {\n",
              "        vertical-align: middle;\n",
              "    }\n",
              "\n",
              "    .dataframe tbody tr th {\n",
              "        vertical-align: top;\n",
              "    }\n",
              "\n",
              "    .dataframe thead th {\n",
              "        text-align: right;\n",
              "    }\n",
              "</style>\n",
              "<table border=\"1\" class=\"dataframe\">\n",
              "  <thead>\n",
              "    <tr style=\"text-align: right;\">\n",
              "      <th></th>\n",
              "      <th>CreditScore</th>\n",
              "      <th>Age</th>\n",
              "      <th>Tenure</th>\n",
              "      <th>Balance</th>\n",
              "      <th>NumOfProducts</th>\n",
              "      <th>HasCrCard</th>\n",
              "      <th>IsActiveMember</th>\n",
              "      <th>EstimatedSalary</th>\n",
              "      <th>Geography_France</th>\n",
              "      <th>Geography_Germany</th>\n",
              "      <th>Geography_Spain</th>\n",
              "      <th>Gender_Female</th>\n",
              "      <th>Gender_Male</th>\n",
              "    </tr>\n",
              "  </thead>\n",
              "  <tbody>\n",
              "    <tr>\n",
              "      <th>0</th>\n",
              "      <td>619</td>\n",
              "      <td>42</td>\n",
              "      <td>2</td>\n",
              "      <td>0.00</td>\n",
              "      <td>1</td>\n",
              "      <td>1</td>\n",
              "      <td>1</td>\n",
              "      <td>101348.88</td>\n",
              "      <td>1</td>\n",
              "      <td>0</td>\n",
              "      <td>0</td>\n",
              "      <td>1</td>\n",
              "      <td>0</td>\n",
              "    </tr>\n",
              "    <tr>\n",
              "      <th>1</th>\n",
              "      <td>608</td>\n",
              "      <td>41</td>\n",
              "      <td>1</td>\n",
              "      <td>83807.86</td>\n",
              "      <td>1</td>\n",
              "      <td>0</td>\n",
              "      <td>1</td>\n",
              "      <td>112542.58</td>\n",
              "      <td>0</td>\n",
              "      <td>0</td>\n",
              "      <td>1</td>\n",
              "      <td>1</td>\n",
              "      <td>0</td>\n",
              "    </tr>\n",
              "    <tr>\n",
              "      <th>2</th>\n",
              "      <td>502</td>\n",
              "      <td>42</td>\n",
              "      <td>8</td>\n",
              "      <td>159660.80</td>\n",
              "      <td>3</td>\n",
              "      <td>1</td>\n",
              "      <td>0</td>\n",
              "      <td>113931.57</td>\n",
              "      <td>1</td>\n",
              "      <td>0</td>\n",
              "      <td>0</td>\n",
              "      <td>1</td>\n",
              "      <td>0</td>\n",
              "    </tr>\n",
              "    <tr>\n",
              "      <th>3</th>\n",
              "      <td>699</td>\n",
              "      <td>39</td>\n",
              "      <td>1</td>\n",
              "      <td>0.00</td>\n",
              "      <td>2</td>\n",
              "      <td>0</td>\n",
              "      <td>0</td>\n",
              "      <td>93826.63</td>\n",
              "      <td>1</td>\n",
              "      <td>0</td>\n",
              "      <td>0</td>\n",
              "      <td>1</td>\n",
              "      <td>0</td>\n",
              "    </tr>\n",
              "    <tr>\n",
              "      <th>4</th>\n",
              "      <td>850</td>\n",
              "      <td>43</td>\n",
              "      <td>2</td>\n",
              "      <td>125510.82</td>\n",
              "      <td>1</td>\n",
              "      <td>1</td>\n",
              "      <td>1</td>\n",
              "      <td>79084.10</td>\n",
              "      <td>0</td>\n",
              "      <td>0</td>\n",
              "      <td>1</td>\n",
              "      <td>1</td>\n",
              "      <td>0</td>\n",
              "    </tr>\n",
              "  </tbody>\n",
              "</table>\n",
              "</div>"
            ],
            "text/plain": [
              "   CreditScore  Age  Tenure  ...  Geography_Spain  Gender_Female  Gender_Male\n",
              "0          619   42       2  ...                0              1            0\n",
              "1          608   41       1  ...                1              1            0\n",
              "2          502   42       8  ...                0              1            0\n",
              "3          699   39       1  ...                0              1            0\n",
              "4          850   43       2  ...                1              1            0\n",
              "\n",
              "[5 rows x 13 columns]"
            ]
          },
          "metadata": {
            "tags": []
          },
          "execution_count": 22
        }
      ]
    },
    {
      "cell_type": "code",
      "metadata": {
        "id": "lNCP8wgrtZGP"
      },
      "source": [
        "# Dividing data into Training Set and Testing Set\n",
        "#  importing library train test split\n",
        "from sklearn.model_selection import train_test_split\n",
        "\n",
        "test_size = 0.20 # taking 80:20 training and testing set\n",
        "seed = 5  # Random numbmer selection for seeding for reapeatability of code\n",
        "X_train, X_test, y_train, y_test = train_test_split(X, y, test_size=test_size, random_state=seed)"
      ],
      "execution_count": 23,
      "outputs": []
    },
    {
      "cell_type": "code",
      "metadata": {
        "id": "AAuWcNRetnS-",
        "outputId": "affaaa81-3daf-41a2-ef2d-d6ab55caff7e",
        "colab": {
          "base_uri": "https://localhost:8080/",
          "height": 34
        }
      },
      "source": [
        "# Checking Shape of training / testing\n",
        "X_train.shape, X_test.shape, y_train.shape, y_test.shape"
      ],
      "execution_count": 24,
      "outputs": [
        {
          "output_type": "execute_result",
          "data": {
            "text/plain": [
              "((8000, 13), (2000, 13), (8000,), (2000,))"
            ]
          },
          "metadata": {
            "tags": []
          },
          "execution_count": 24
        }
      ]
    },
    {
      "cell_type": "code",
      "metadata": {
        "id": "SPGXpKf0trj6",
        "outputId": "9010f00d-b2c9-4990-e987-e276ea9507a1",
        "colab": {
          "base_uri": "https://localhost:8080/",
          "height": 236
        }
      },
      "source": [
        "# Normalization of data\n",
        "# Now scale the data as features are on different scales. All data must be scaled before modelling\n",
        "from sklearn import preprocessing\n",
        "scaler = preprocessing.MinMaxScaler()    # MinMaxScalar for scaling\n",
        "\n",
        "# fitting the Scaler transform on training and testing seperately\n",
        "X_train = scaler.fit_transform(X_train)\n",
        "X_test = scaler.transform(X_test)\n",
        "X_train"
      ],
      "execution_count": 25,
      "outputs": [
        {
          "output_type": "execute_result",
          "data": {
            "text/plain": [
              "array([[0.8       , 0.28378378, 0.6       , ..., 1.        , 1.        ,\n",
              "        0.        ],\n",
              "       [0.752     , 0.21621622, 0.3       , ..., 0.        , 0.        ,\n",
              "        1.        ],\n",
              "       [0.476     , 0.62162162, 0.3       , ..., 0.        , 1.        ,\n",
              "        0.        ],\n",
              "       ...,\n",
              "       [0.466     , 0.17567568, 0.4       , ..., 0.        , 1.        ,\n",
              "        0.        ],\n",
              "       [0.658     , 0.24324324, 0.6       , ..., 0.        , 0.        ,\n",
              "        1.        ],\n",
              "       [0.278     , 0.45945946, 0.1       , ..., 0.        , 1.        ,\n",
              "        0.        ]])"
            ]
          },
          "metadata": {
            "tags": []
          },
          "execution_count": 25
        }
      ]
    },
    {
      "cell_type": "code",
      "metadata": {
        "id": "LAe-OyD-v9Jo"
      },
      "source": [
        "# Convert the data elements into tensors as we need tensors to be fed into different tensorflow based operations\n",
        "\n",
        "X_train=tf.convert_to_tensor(X_train)\n",
        "y_train=tf.convert_to_tensor(y_train.values)\n",
        "X_test=tf.convert_to_tensor(X_test)\n",
        "y_test=tf.convert_to_tensor(y_test.values)"
      ],
      "execution_count": 26,
      "outputs": []
    },
    {
      "cell_type": "code",
      "metadata": {
        "id": "czgM1nrowP5P",
        "outputId": "c61e6894-7dc7-4012-c8b2-f44b00d7ca8f",
        "colab": {
          "base_uri": "https://localhost:8080/",
          "height": 34
        }
      },
      "source": [
        "X_train.shape, X_test.shape"
      ],
      "execution_count": 27,
      "outputs": [
        {
          "output_type": "execute_result",
          "data": {
            "text/plain": [
              "(TensorShape([8000, 13]), TensorShape([2000, 13]))"
            ]
          },
          "metadata": {
            "tags": []
          },
          "execution_count": 27
        }
      ]
    },
    {
      "cell_type": "markdown",
      "metadata": {
        "id": "0kJ8SBz3xQOW"
      },
      "source": [
        "Initialize & build the model (2 layers in Hidden layer, activation = Relu)"
      ]
    },
    {
      "cell_type": "code",
      "metadata": {
        "id": "oz7LeNQqxSXA"
      },
      "source": [
        "# Initialize Sequential model\n",
        "model = tf.keras.models.Sequential()\n",
        "\n",
        "\n",
        "# Add Input layer to the model\n",
        "model.add(tf.keras.Input(shape=(13,))) # 13 Features\n",
        "\n",
        "\n",
        "# Hidden layers\n",
        "model.add(tf.keras.layers.Dense(13, activation='relu', name='Layer_1'))\n",
        "model.add(tf.keras.layers.Dense(10, activation='relu', name='Layer_2'))\n",
        "\n",
        "#Output layer\n",
        "model.add(tf.keras.layers.Dense(1, activation='sigmoid', name='Output'))"
      ],
      "execution_count": 28,
      "outputs": []
    },
    {
      "cell_type": "code",
      "metadata": {
        "id": "aoQNBDMHxbdY"
      },
      "source": [
        "# model compilation\n",
        "model.compile(optimizer='adam', loss='binary_crossentropy', metrics=['accuracy'])\n"
      ],
      "execution_count": 29,
      "outputs": []
    },
    {
      "cell_type": "code",
      "metadata": {
        "id": "7dnsbC-zxj6F",
        "outputId": "b5a2ee6b-acc7-4763-d754-2bbf68ead73d",
        "colab": {
          "base_uri": "https://localhost:8080/",
          "height": 253
        }
      },
      "source": [
        "model.summary()"
      ],
      "execution_count": 30,
      "outputs": [
        {
          "output_type": "stream",
          "text": [
            "Model: \"sequential\"\n",
            "_________________________________________________________________\n",
            "Layer (type)                 Output Shape              Param #   \n",
            "=================================================================\n",
            "Layer_1 (Dense)              (None, 13)                182       \n",
            "_________________________________________________________________\n",
            "Layer_2 (Dense)              (None, 10)                140       \n",
            "_________________________________________________________________\n",
            "Output (Dense)               (None, 1)                 11        \n",
            "=================================================================\n",
            "Total params: 333\n",
            "Trainable params: 333\n",
            "Non-trainable params: 0\n",
            "_________________________________________________________________\n"
          ],
          "name": "stdout"
        }
      ]
    },
    {
      "cell_type": "code",
      "metadata": {
        "id": "KNWtH5MHx_1-",
        "outputId": "d3bb252f-b603-4ac9-bfd0-7075f0705d9f",
        "colab": {
          "base_uri": "https://localhost:8080/",
          "height": 1723
        }
      },
      "source": [
        "model.fit(X_train, y_train, validation_data=(X_test, y_test), epochs=50,  batch_size = 30)"
      ],
      "execution_count": 31,
      "outputs": [
        {
          "output_type": "stream",
          "text": [
            "Epoch 1/50\n",
            "267/267 [==============================] - 1s 3ms/step - loss: 0.5616 - accuracy: 0.7251 - val_loss: 0.4873 - val_accuracy: 0.7975\n",
            "Epoch 2/50\n",
            "267/267 [==============================] - 1s 3ms/step - loss: 0.4811 - accuracy: 0.7960 - val_loss: 0.4712 - val_accuracy: 0.7975\n",
            "Epoch 3/50\n",
            "267/267 [==============================] - 1s 3ms/step - loss: 0.4660 - accuracy: 0.7971 - val_loss: 0.4589 - val_accuracy: 0.8025\n",
            "Epoch 4/50\n",
            "267/267 [==============================] - 1s 3ms/step - loss: 0.4516 - accuracy: 0.8048 - val_loss: 0.4468 - val_accuracy: 0.8085\n",
            "Epoch 5/50\n",
            "267/267 [==============================] - 1s 3ms/step - loss: 0.4377 - accuracy: 0.8120 - val_loss: 0.4372 - val_accuracy: 0.8125\n",
            "Epoch 6/50\n",
            "267/267 [==============================] - 1s 3ms/step - loss: 0.4245 - accuracy: 0.8185 - val_loss: 0.4240 - val_accuracy: 0.8160\n",
            "Epoch 7/50\n",
            "267/267 [==============================] - 1s 3ms/step - loss: 0.4118 - accuracy: 0.8211 - val_loss: 0.4112 - val_accuracy: 0.8195\n",
            "Epoch 8/50\n",
            "267/267 [==============================] - 1s 3ms/step - loss: 0.3995 - accuracy: 0.8275 - val_loss: 0.4043 - val_accuracy: 0.8215\n",
            "Epoch 9/50\n",
            "267/267 [==============================] - 1s 3ms/step - loss: 0.3893 - accuracy: 0.8320 - val_loss: 0.3993 - val_accuracy: 0.8260\n",
            "Epoch 10/50\n",
            "267/267 [==============================] - 1s 3ms/step - loss: 0.3827 - accuracy: 0.8379 - val_loss: 0.3877 - val_accuracy: 0.8320\n",
            "Epoch 11/50\n",
            "267/267 [==============================] - 1s 3ms/step - loss: 0.3754 - accuracy: 0.8410 - val_loss: 0.3819 - val_accuracy: 0.8335\n",
            "Epoch 12/50\n",
            "267/267 [==============================] - 1s 3ms/step - loss: 0.3695 - accuracy: 0.8430 - val_loss: 0.3766 - val_accuracy: 0.8410\n",
            "Epoch 13/50\n",
            "267/267 [==============================] - 1s 3ms/step - loss: 0.3667 - accuracy: 0.8440 - val_loss: 0.3820 - val_accuracy: 0.8380\n",
            "Epoch 14/50\n",
            "267/267 [==============================] - 1s 3ms/step - loss: 0.3628 - accuracy: 0.8466 - val_loss: 0.3747 - val_accuracy: 0.8410\n",
            "Epoch 15/50\n",
            "267/267 [==============================] - 1s 3ms/step - loss: 0.3622 - accuracy: 0.8470 - val_loss: 0.3717 - val_accuracy: 0.8420\n",
            "Epoch 16/50\n",
            "267/267 [==============================] - 1s 3ms/step - loss: 0.3602 - accuracy: 0.8489 - val_loss: 0.3722 - val_accuracy: 0.8455\n",
            "Epoch 17/50\n",
            "267/267 [==============================] - 1s 3ms/step - loss: 0.3587 - accuracy: 0.8499 - val_loss: 0.3710 - val_accuracy: 0.8400\n",
            "Epoch 18/50\n",
            "267/267 [==============================] - 1s 3ms/step - loss: 0.3562 - accuracy: 0.8500 - val_loss: 0.3685 - val_accuracy: 0.8450\n",
            "Epoch 19/50\n",
            "267/267 [==============================] - 1s 3ms/step - loss: 0.3547 - accuracy: 0.8504 - val_loss: 0.3679 - val_accuracy: 0.8485\n",
            "Epoch 20/50\n",
            "267/267 [==============================] - 1s 3ms/step - loss: 0.3539 - accuracy: 0.8506 - val_loss: 0.3671 - val_accuracy: 0.8430\n",
            "Epoch 21/50\n",
            "267/267 [==============================] - 1s 3ms/step - loss: 0.3517 - accuracy: 0.8512 - val_loss: 0.3693 - val_accuracy: 0.8490\n",
            "Epoch 22/50\n",
            "267/267 [==============================] - 1s 3ms/step - loss: 0.3515 - accuracy: 0.8529 - val_loss: 0.3626 - val_accuracy: 0.8505\n",
            "Epoch 23/50\n",
            "267/267 [==============================] - 1s 3ms/step - loss: 0.3493 - accuracy: 0.8530 - val_loss: 0.3631 - val_accuracy: 0.8515\n",
            "Epoch 24/50\n",
            "267/267 [==============================] - 1s 3ms/step - loss: 0.3491 - accuracy: 0.8539 - val_loss: 0.3625 - val_accuracy: 0.8470\n",
            "Epoch 25/50\n",
            "267/267 [==============================] - 1s 3ms/step - loss: 0.3479 - accuracy: 0.8533 - val_loss: 0.3605 - val_accuracy: 0.8490\n",
            "Epoch 26/50\n",
            "267/267 [==============================] - 1s 3ms/step - loss: 0.3469 - accuracy: 0.8550 - val_loss: 0.3650 - val_accuracy: 0.8485\n",
            "Epoch 27/50\n",
            "267/267 [==============================] - 1s 3ms/step - loss: 0.3474 - accuracy: 0.8553 - val_loss: 0.3600 - val_accuracy: 0.8500\n",
            "Epoch 28/50\n",
            "267/267 [==============================] - 1s 3ms/step - loss: 0.3465 - accuracy: 0.8543 - val_loss: 0.3621 - val_accuracy: 0.8530\n",
            "Epoch 29/50\n",
            "267/267 [==============================] - 1s 3ms/step - loss: 0.3458 - accuracy: 0.8576 - val_loss: 0.3619 - val_accuracy: 0.8500\n",
            "Epoch 30/50\n",
            "267/267 [==============================] - 1s 3ms/step - loss: 0.3457 - accuracy: 0.8576 - val_loss: 0.3609 - val_accuracy: 0.8475\n",
            "Epoch 31/50\n",
            "267/267 [==============================] - 1s 3ms/step - loss: 0.3446 - accuracy: 0.8587 - val_loss: 0.3582 - val_accuracy: 0.8505\n",
            "Epoch 32/50\n",
            "267/267 [==============================] - 1s 3ms/step - loss: 0.3448 - accuracy: 0.8537 - val_loss: 0.3629 - val_accuracy: 0.8490\n",
            "Epoch 33/50\n",
            "267/267 [==============================] - 1s 3ms/step - loss: 0.3441 - accuracy: 0.8587 - val_loss: 0.3581 - val_accuracy: 0.8520\n",
            "Epoch 34/50\n",
            "267/267 [==============================] - 1s 3ms/step - loss: 0.3436 - accuracy: 0.8550 - val_loss: 0.3592 - val_accuracy: 0.8525\n",
            "Epoch 35/50\n",
            "267/267 [==============================] - 1s 3ms/step - loss: 0.3438 - accuracy: 0.8571 - val_loss: 0.3576 - val_accuracy: 0.8530\n",
            "Epoch 36/50\n",
            "267/267 [==============================] - 1s 3ms/step - loss: 0.3441 - accuracy: 0.8574 - val_loss: 0.3574 - val_accuracy: 0.8515\n",
            "Epoch 37/50\n",
            "267/267 [==============================] - 1s 3ms/step - loss: 0.3426 - accuracy: 0.8580 - val_loss: 0.3611 - val_accuracy: 0.8520\n",
            "Epoch 38/50\n",
            "267/267 [==============================] - 1s 3ms/step - loss: 0.3430 - accuracy: 0.8602 - val_loss: 0.3592 - val_accuracy: 0.8500\n",
            "Epoch 39/50\n",
            "267/267 [==============================] - 1s 3ms/step - loss: 0.3425 - accuracy: 0.8586 - val_loss: 0.3574 - val_accuracy: 0.8505\n",
            "Epoch 40/50\n",
            "267/267 [==============================] - 1s 3ms/step - loss: 0.3417 - accuracy: 0.8581 - val_loss: 0.3578 - val_accuracy: 0.8495\n",
            "Epoch 41/50\n",
            "267/267 [==============================] - 1s 3ms/step - loss: 0.3415 - accuracy: 0.8589 - val_loss: 0.3587 - val_accuracy: 0.8530\n",
            "Epoch 42/50\n",
            "267/267 [==============================] - 1s 3ms/step - loss: 0.3415 - accuracy: 0.8572 - val_loss: 0.3583 - val_accuracy: 0.8535\n",
            "Epoch 43/50\n",
            "267/267 [==============================] - 1s 3ms/step - loss: 0.3411 - accuracy: 0.8576 - val_loss: 0.3578 - val_accuracy: 0.8510\n",
            "Epoch 44/50\n",
            "267/267 [==============================] - 1s 3ms/step - loss: 0.3404 - accuracy: 0.8590 - val_loss: 0.3552 - val_accuracy: 0.8525\n",
            "Epoch 45/50\n",
            "267/267 [==============================] - 1s 3ms/step - loss: 0.3405 - accuracy: 0.8595 - val_loss: 0.3599 - val_accuracy: 0.8540\n",
            "Epoch 46/50\n",
            "267/267 [==============================] - 1s 3ms/step - loss: 0.3401 - accuracy: 0.8590 - val_loss: 0.3553 - val_accuracy: 0.8530\n",
            "Epoch 47/50\n",
            "267/267 [==============================] - 1s 3ms/step - loss: 0.3398 - accuracy: 0.8602 - val_loss: 0.3576 - val_accuracy: 0.8550\n",
            "Epoch 48/50\n",
            "267/267 [==============================] - 1s 3ms/step - loss: 0.3399 - accuracy: 0.8604 - val_loss: 0.3574 - val_accuracy: 0.8555\n",
            "Epoch 49/50\n",
            "267/267 [==============================] - 1s 3ms/step - loss: 0.3392 - accuracy: 0.8602 - val_loss: 0.3583 - val_accuracy: 0.8520\n",
            "Epoch 50/50\n",
            "267/267 [==============================] - 1s 3ms/step - loss: 0.3395 - accuracy: 0.8583 - val_loss: 0.3591 - val_accuracy: 0.8530\n"
          ],
          "name": "stdout"
        },
        {
          "output_type": "execute_result",
          "data": {
            "text/plain": [
              "<tensorflow.python.keras.callbacks.History at 0x7f25c003fc18>"
            ]
          },
          "metadata": {
            "tags": []
          },
          "execution_count": 31
        }
      ]
    },
    {
      "cell_type": "code",
      "metadata": {
        "id": "iPif_e5qugHX",
        "outputId": "bf0b0a9a-0519-452c-8bd8-7c0ee5fc26a3",
        "colab": {
          "base_uri": "https://localhost:8080/",
          "height": 34
        }
      },
      "source": [
        "results = model.evaluate(X_test,y_test)"
      ],
      "execution_count": 32,
      "outputs": [
        {
          "output_type": "stream",
          "text": [
            "63/63 [==============================] - 0s 2ms/step - loss: 0.3591 - accuracy: 0.8530\n"
          ],
          "name": "stdout"
        }
      ]
    },
    {
      "cell_type": "code",
      "metadata": {
        "id": "Wlekx2rayB60",
        "outputId": "4391d544-1365-4597-f628-ba8c92241e6d",
        "colab": {
          "base_uri": "https://localhost:8080/",
          "height": 186
        }
      },
      "source": [
        "# Predict the model\n",
        "predict_arr=model.predict(X_test)\n",
        "predict_arr[:10]"
      ],
      "execution_count": 33,
      "outputs": [
        {
          "output_type": "execute_result",
          "data": {
            "text/plain": [
              "array([[0.03385691],\n",
              "       [0.0595954 ],\n",
              "       [0.068305  ],\n",
              "       [0.06269954],\n",
              "       [0.05250505],\n",
              "       [0.09442736],\n",
              "       [0.0081165 ],\n",
              "       [0.3174991 ],\n",
              "       [0.00999431],\n",
              "       [0.9545979 ]], dtype=float32)"
            ]
          },
          "metadata": {
            "tags": []
          },
          "execution_count": 33
        }
      ]
    },
    {
      "cell_type": "code",
      "metadata": {
        "id": "7Ykuhc27kNki",
        "outputId": "83d4600b-c8ac-4402-aa32-0550c04f7635",
        "colab": {
          "base_uri": "https://localhost:8080/",
          "height": 135
        }
      },
      "source": [
        "# Predict the results using 0.5 as a threshold\n",
        "\n",
        "predict_arr_thrshld= predict_arr> 0.5\n",
        "predict_arr_thrshld"
      ],
      "execution_count": 34,
      "outputs": [
        {
          "output_type": "execute_result",
          "data": {
            "text/plain": [
              "array([[False],\n",
              "       [False],\n",
              "       [False],\n",
              "       ...,\n",
              "       [False],\n",
              "       [False],\n",
              "       [False]])"
            ]
          },
          "metadata": {
            "tags": []
          },
          "execution_count": 34
        }
      ]
    },
    {
      "cell_type": "code",
      "metadata": {
        "id": "uu3zwuo6qQ7q",
        "outputId": "76981802-5722-40b6-9d28-9f8239ad6ff9",
        "colab": {
          "base_uri": "https://localhost:8080/",
          "height": 51
        }
      },
      "source": [
        "# Confusion matrix with optimal Threshold on test set\n",
        "from sklearn import metrics\n",
        "from sklearn.metrics import accuracy_score, recall_score,f1_score, precision_score\n",
        "metrics.confusion_matrix(y_test, predict_arr_thrshld)"
      ],
      "execution_count": 35,
      "outputs": [
        {
          "output_type": "execute_result",
          "data": {
            "text/plain": [
              "array([[1545,   50],\n",
              "       [ 244,  161]])"
            ]
          },
          "metadata": {
            "tags": []
          },
          "execution_count": 35
        }
      ]
    },
    {
      "cell_type": "code",
      "metadata": {
        "id": "bfezz4UBqaVj",
        "outputId": "4c0f6050-d4e1-46aa-fd09-e113075029ed",
        "colab": {
          "base_uri": "https://localhost:8080/",
          "height": 101
        }
      },
      "source": [
        "# Printing Metrics\n",
        "\n",
        "print('Neural Network Metrics')\n",
        "print('Accuracy  :' ,accuracy_score(y_test, predict_arr_thrshld))\n",
        "print('Precision :',precision_score(y_test, predict_arr_thrshld))\n",
        "print('Recall    :',recall_score(y_test, predict_arr_thrshld))\n",
        "print('F1 Score  :',f1_score(y_test, predict_arr_thrshld))"
      ],
      "execution_count": 36,
      "outputs": [
        {
          "output_type": "stream",
          "text": [
            "Neural Network Metrics\n",
            "Accuracy  : 0.853\n",
            "Precision : 0.7630331753554502\n",
            "Recall    : 0.39753086419753086\n",
            "F1 Score  : 0.5227272727272727\n"
          ],
          "name": "stdout"
        }
      ]
    },
    {
      "cell_type": "code",
      "metadata": {
        "id": "bma4tRAHrstU"
      },
      "source": [
        ""
      ],
      "execution_count": 36,
      "outputs": []
    },
    {
      "cell_type": "code",
      "metadata": {
        "id": "zSnUTuHKEe3d"
      },
      "source": [
        "# Rebuilding Model by changing Hyper parameters as improvement points\n",
        "# using tanh as activation function\n",
        "# using 3 layers in hidden layer\n",
        "# using different optimizer "
      ],
      "execution_count": 37,
      "outputs": []
    },
    {
      "cell_type": "markdown",
      "metadata": {
        "id": "qNwhIzaXEx-9"
      },
      "source": [
        "Initialize & build the model   (3 layers in Hidden layer, activation = tanh)"
      ]
    },
    {
      "cell_type": "code",
      "metadata": {
        "id": "NYcndm2TEx_A"
      },
      "source": [
        "# Initialize Sequential model\n",
        "model = tf.keras.models.Sequential()\n",
        "\n",
        "\n",
        "# Add Input layer to the model\n",
        "model.add(tf.keras.Input(shape=(13,))) # 13 Features\n",
        "\n",
        "\n",
        "# Hidden layers\n",
        "model.add(tf.keras.layers.Dense(20, activation='tanh', name='Layer_1'))\n",
        "model.add(tf.keras.layers.Dense(10, activation='tanh', name='Layer_2'))\n",
        "model.add(tf.keras.layers.Dense(5, activation='tanh', name='Layer_3'))\n",
        "\n",
        "#Output layer\n",
        "model.add(tf.keras.layers.Dense(1, activation='sigmoid', name='Output'))"
      ],
      "execution_count": 38,
      "outputs": []
    },
    {
      "cell_type": "code",
      "metadata": {
        "id": "kCQcoQQxEx_E"
      },
      "source": [
        "# model compilation\n",
        "from tensorflow.keras import optimizers\n",
        "sgd = optimizers.Adam(lr = 0.01)\n",
        "model.compile(optimizer=sgd, loss='binary_crossentropy', metrics=['accuracy'])\n"
      ],
      "execution_count": 39,
      "outputs": []
    },
    {
      "cell_type": "code",
      "metadata": {
        "id": "NXdzyOqTEx_G",
        "outputId": "0b80eacd-ce20-48bf-ab7b-a3afb7253b00",
        "colab": {
          "base_uri": "https://localhost:8080/",
          "height": 287
        }
      },
      "source": [
        "model.summary()"
      ],
      "execution_count": 40,
      "outputs": [
        {
          "output_type": "stream",
          "text": [
            "Model: \"sequential_1\"\n",
            "_________________________________________________________________\n",
            "Layer (type)                 Output Shape              Param #   \n",
            "=================================================================\n",
            "Layer_1 (Dense)              (None, 20)                280       \n",
            "_________________________________________________________________\n",
            "Layer_2 (Dense)              (None, 10)                210       \n",
            "_________________________________________________________________\n",
            "Layer_3 (Dense)              (None, 5)                 55        \n",
            "_________________________________________________________________\n",
            "Output (Dense)               (None, 1)                 6         \n",
            "=================================================================\n",
            "Total params: 551\n",
            "Trainable params: 551\n",
            "Non-trainable params: 0\n",
            "_________________________________________________________________\n"
          ],
          "name": "stdout"
        }
      ]
    },
    {
      "cell_type": "code",
      "metadata": {
        "id": "H6AI2-TGEx_I",
        "outputId": "7d90efa2-f8ef-4aa4-c1db-bab6282b2332",
        "colab": {
          "base_uri": "https://localhost:8080/",
          "height": 1723
        }
      },
      "source": [
        "model.fit(X_train, y_train, validation_data=(X_test, y_test), epochs=50, batch_size = 32)"
      ],
      "execution_count": 41,
      "outputs": [
        {
          "output_type": "stream",
          "text": [
            "Epoch 1/50\n",
            "250/250 [==============================] - 1s 3ms/step - loss: 0.4630 - accuracy: 0.8026 - val_loss: 0.4333 - val_accuracy: 0.8180\n",
            "Epoch 2/50\n",
            "250/250 [==============================] - 1s 2ms/step - loss: 0.4183 - accuracy: 0.8282 - val_loss: 0.4288 - val_accuracy: 0.8115\n",
            "Epoch 3/50\n",
            "250/250 [==============================] - 1s 2ms/step - loss: 0.3998 - accuracy: 0.8309 - val_loss: 0.3892 - val_accuracy: 0.8445\n",
            "Epoch 4/50\n",
            "250/250 [==============================] - 1s 2ms/step - loss: 0.3708 - accuracy: 0.8491 - val_loss: 0.3906 - val_accuracy: 0.8455\n",
            "Epoch 5/50\n",
            "250/250 [==============================] - 1s 2ms/step - loss: 0.3617 - accuracy: 0.8506 - val_loss: 0.3805 - val_accuracy: 0.8450\n",
            "Epoch 6/50\n",
            "250/250 [==============================] - 1s 2ms/step - loss: 0.3572 - accuracy: 0.8526 - val_loss: 0.3781 - val_accuracy: 0.8425\n",
            "Epoch 7/50\n",
            "250/250 [==============================] - 1s 2ms/step - loss: 0.3570 - accuracy: 0.8541 - val_loss: 0.3673 - val_accuracy: 0.8490\n",
            "Epoch 8/50\n",
            "250/250 [==============================] - 1s 2ms/step - loss: 0.3540 - accuracy: 0.8544 - val_loss: 0.3683 - val_accuracy: 0.8565\n",
            "Epoch 9/50\n",
            "250/250 [==============================] - 1s 2ms/step - loss: 0.3503 - accuracy: 0.8594 - val_loss: 0.3605 - val_accuracy: 0.8500\n",
            "Epoch 10/50\n",
            "250/250 [==============================] - 1s 2ms/step - loss: 0.3478 - accuracy: 0.8606 - val_loss: 0.3670 - val_accuracy: 0.8540\n",
            "Epoch 11/50\n",
            "250/250 [==============================] - 1s 2ms/step - loss: 0.3454 - accuracy: 0.8595 - val_loss: 0.3509 - val_accuracy: 0.8605\n",
            "Epoch 12/50\n",
            "250/250 [==============================] - 1s 2ms/step - loss: 0.3394 - accuracy: 0.8631 - val_loss: 0.3618 - val_accuracy: 0.8525\n",
            "Epoch 13/50\n",
            "250/250 [==============================] - 1s 2ms/step - loss: 0.3406 - accuracy: 0.8609 - val_loss: 0.3620 - val_accuracy: 0.8510\n",
            "Epoch 14/50\n",
            "250/250 [==============================] - 1s 2ms/step - loss: 0.3415 - accuracy: 0.8586 - val_loss: 0.3552 - val_accuracy: 0.8550\n",
            "Epoch 15/50\n",
            "250/250 [==============================] - 1s 2ms/step - loss: 0.3377 - accuracy: 0.8627 - val_loss: 0.3540 - val_accuracy: 0.8560\n",
            "Epoch 16/50\n",
            "250/250 [==============================] - 1s 2ms/step - loss: 0.3354 - accuracy: 0.8621 - val_loss: 0.3581 - val_accuracy: 0.8580\n",
            "Epoch 17/50\n",
            "250/250 [==============================] - 1s 2ms/step - loss: 0.3348 - accuracy: 0.8650 - val_loss: 0.3559 - val_accuracy: 0.8550\n",
            "Epoch 18/50\n",
            "250/250 [==============================] - 1s 2ms/step - loss: 0.3383 - accuracy: 0.8626 - val_loss: 0.3586 - val_accuracy: 0.8510\n",
            "Epoch 19/50\n",
            "250/250 [==============================] - 1s 2ms/step - loss: 0.3345 - accuracy: 0.8636 - val_loss: 0.3562 - val_accuracy: 0.8505\n",
            "Epoch 20/50\n",
            "250/250 [==============================] - 1s 2ms/step - loss: 0.3367 - accuracy: 0.8596 - val_loss: 0.3527 - val_accuracy: 0.8535\n",
            "Epoch 21/50\n",
            "250/250 [==============================] - 1s 2ms/step - loss: 0.3357 - accuracy: 0.8609 - val_loss: 0.3482 - val_accuracy: 0.8510\n",
            "Epoch 22/50\n",
            "250/250 [==============================] - 1s 2ms/step - loss: 0.3332 - accuracy: 0.8662 - val_loss: 0.3570 - val_accuracy: 0.8515\n",
            "Epoch 23/50\n",
            "250/250 [==============================] - 1s 2ms/step - loss: 0.3346 - accuracy: 0.8636 - val_loss: 0.3633 - val_accuracy: 0.8490\n",
            "Epoch 24/50\n",
            "250/250 [==============================] - 1s 2ms/step - loss: 0.3315 - accuracy: 0.8649 - val_loss: 0.3609 - val_accuracy: 0.8480\n",
            "Epoch 25/50\n",
            "250/250 [==============================] - 1s 2ms/step - loss: 0.3334 - accuracy: 0.8624 - val_loss: 0.3689 - val_accuracy: 0.8470\n",
            "Epoch 26/50\n",
            "250/250 [==============================] - 1s 2ms/step - loss: 0.3300 - accuracy: 0.8659 - val_loss: 0.3567 - val_accuracy: 0.8560\n",
            "Epoch 27/50\n",
            "250/250 [==============================] - 1s 2ms/step - loss: 0.3294 - accuracy: 0.8651 - val_loss: 0.3586 - val_accuracy: 0.8480\n",
            "Epoch 28/50\n",
            "250/250 [==============================] - 1s 2ms/step - loss: 0.3301 - accuracy: 0.8631 - val_loss: 0.3530 - val_accuracy: 0.8550\n",
            "Epoch 29/50\n",
            "250/250 [==============================] - 1s 2ms/step - loss: 0.3341 - accuracy: 0.8646 - val_loss: 0.3661 - val_accuracy: 0.8495\n",
            "Epoch 30/50\n",
            "250/250 [==============================] - 1s 2ms/step - loss: 0.3275 - accuracy: 0.8665 - val_loss: 0.3619 - val_accuracy: 0.8555\n",
            "Epoch 31/50\n",
            "250/250 [==============================] - 1s 2ms/step - loss: 0.3288 - accuracy: 0.8656 - val_loss: 0.3636 - val_accuracy: 0.8465\n",
            "Epoch 32/50\n",
            "250/250 [==============================] - 1s 2ms/step - loss: 0.3279 - accuracy: 0.8656 - val_loss: 0.3613 - val_accuracy: 0.8540\n",
            "Epoch 33/50\n",
            "250/250 [==============================] - 1s 2ms/step - loss: 0.3261 - accuracy: 0.8666 - val_loss: 0.3595 - val_accuracy: 0.8540\n",
            "Epoch 34/50\n",
            "250/250 [==============================] - 1s 2ms/step - loss: 0.3267 - accuracy: 0.8677 - val_loss: 0.3691 - val_accuracy: 0.8440\n",
            "Epoch 35/50\n",
            "250/250 [==============================] - 1s 2ms/step - loss: 0.3248 - accuracy: 0.8665 - val_loss: 0.3700 - val_accuracy: 0.8495\n",
            "Epoch 36/50\n",
            "250/250 [==============================] - 1s 2ms/step - loss: 0.3260 - accuracy: 0.8662 - val_loss: 0.3591 - val_accuracy: 0.8545\n",
            "Epoch 37/50\n",
            "250/250 [==============================] - 1s 2ms/step - loss: 0.3258 - accuracy: 0.8676 - val_loss: 0.3616 - val_accuracy: 0.8475\n",
            "Epoch 38/50\n",
            "250/250 [==============================] - 1s 2ms/step - loss: 0.3248 - accuracy: 0.8684 - val_loss: 0.3605 - val_accuracy: 0.8525\n",
            "Epoch 39/50\n",
            "250/250 [==============================] - 1s 2ms/step - loss: 0.3252 - accuracy: 0.8664 - val_loss: 0.3700 - val_accuracy: 0.8480\n",
            "Epoch 40/50\n",
            "250/250 [==============================] - 1s 2ms/step - loss: 0.3259 - accuracy: 0.8670 - val_loss: 0.3619 - val_accuracy: 0.8550\n",
            "Epoch 41/50\n",
            "250/250 [==============================] - 1s 2ms/step - loss: 0.3258 - accuracy: 0.8675 - val_loss: 0.3596 - val_accuracy: 0.8540\n",
            "Epoch 42/50\n",
            "250/250 [==============================] - 1s 2ms/step - loss: 0.3224 - accuracy: 0.8701 - val_loss: 0.3656 - val_accuracy: 0.8450\n",
            "Epoch 43/50\n",
            "250/250 [==============================] - 1s 2ms/step - loss: 0.3232 - accuracy: 0.8684 - val_loss: 0.3651 - val_accuracy: 0.8520\n",
            "Epoch 44/50\n",
            "250/250 [==============================] - 1s 2ms/step - loss: 0.3224 - accuracy: 0.8683 - val_loss: 0.3672 - val_accuracy: 0.8525\n",
            "Epoch 45/50\n",
            "250/250 [==============================] - 1s 2ms/step - loss: 0.3221 - accuracy: 0.8654 - val_loss: 0.3666 - val_accuracy: 0.8525\n",
            "Epoch 46/50\n",
            "250/250 [==============================] - 1s 2ms/step - loss: 0.3235 - accuracy: 0.8641 - val_loss: 0.3640 - val_accuracy: 0.8575\n",
            "Epoch 47/50\n",
            "250/250 [==============================] - 1s 2ms/step - loss: 0.3196 - accuracy: 0.8686 - val_loss: 0.3660 - val_accuracy: 0.8545\n",
            "Epoch 48/50\n",
            "250/250 [==============================] - 1s 2ms/step - loss: 0.3209 - accuracy: 0.8676 - val_loss: 0.3835 - val_accuracy: 0.8515\n",
            "Epoch 49/50\n",
            "250/250 [==============================] - 1s 2ms/step - loss: 0.3186 - accuracy: 0.8709 - val_loss: 0.3653 - val_accuracy: 0.8485\n",
            "Epoch 50/50\n",
            "250/250 [==============================] - 1s 2ms/step - loss: 0.3180 - accuracy: 0.8684 - val_loss: 0.3665 - val_accuracy: 0.8500\n"
          ],
          "name": "stdout"
        },
        {
          "output_type": "execute_result",
          "data": {
            "text/plain": [
              "<tensorflow.python.keras.callbacks.History at 0x7f25617024e0>"
            ]
          },
          "metadata": {
            "tags": []
          },
          "execution_count": 41
        }
      ]
    },
    {
      "cell_type": "code",
      "metadata": {
        "id": "nPWC3umiEx_K",
        "outputId": "429a3a22-bb07-4b2f-dff2-8c77a3b8663a",
        "colab": {
          "base_uri": "https://localhost:8080/",
          "height": 34
        }
      },
      "source": [
        "results = model.evaluate(X_test,y_test)"
      ],
      "execution_count": 42,
      "outputs": [
        {
          "output_type": "stream",
          "text": [
            "63/63 [==============================] - 0s 2ms/step - loss: 0.3665 - accuracy: 0.8500\n"
          ],
          "name": "stdout"
        }
      ]
    },
    {
      "cell_type": "code",
      "metadata": {
        "id": "LY1uYCTkEx_N",
        "outputId": "0d9a1590-ab69-4012-c9a7-9c68e0ebdda7",
        "colab": {
          "base_uri": "https://localhost:8080/",
          "height": 186
        }
      },
      "source": [
        "predict_arr=model.predict(X_test)\n",
        "predict_arr[:10]"
      ],
      "execution_count": 43,
      "outputs": [
        {
          "output_type": "execute_result",
          "data": {
            "text/plain": [
              "array([[0.02159878],\n",
              "       [0.04477165],\n",
              "       [0.06621866],\n",
              "       [0.03595257],\n",
              "       [0.08408789],\n",
              "       [0.08955164],\n",
              "       [0.01786377],\n",
              "       [0.37640822],\n",
              "       [0.02090557],\n",
              "       [0.98125046]], dtype=float32)"
            ]
          },
          "metadata": {
            "tags": []
          },
          "execution_count": 43
        }
      ]
    },
    {
      "cell_type": "code",
      "metadata": {
        "id": "ksNNCKqeEx_Q",
        "outputId": "9ae719ac-af5d-4ddc-849c-e18c02956d29",
        "colab": {
          "base_uri": "https://localhost:8080/",
          "height": 135
        }
      },
      "source": [
        "predict_arr_thrshld= predict_arr> 0.5\n",
        "predict_arr_thrshld"
      ],
      "execution_count": 44,
      "outputs": [
        {
          "output_type": "execute_result",
          "data": {
            "text/plain": [
              "array([[False],\n",
              "       [False],\n",
              "       [False],\n",
              "       ...,\n",
              "       [False],\n",
              "       [False],\n",
              "       [False]])"
            ]
          },
          "metadata": {
            "tags": []
          },
          "execution_count": 44
        }
      ]
    },
    {
      "cell_type": "code",
      "metadata": {
        "id": "e1fjTivpEx_S",
        "outputId": "3e21ffb2-0d44-4bc1-8f6b-56510529961c",
        "colab": {
          "base_uri": "https://localhost:8080/",
          "height": 51
        }
      },
      "source": [
        "# Confusion matrix with optimal Threshold on test set\n",
        "from sklearn import metrics\n",
        "from sklearn.metrics import accuracy_score, recall_score,f1_score, precision_score\n",
        "metrics.confusion_matrix(y_test, predict_arr_thrshld)"
      ],
      "execution_count": 45,
      "outputs": [
        {
          "output_type": "execute_result",
          "data": {
            "text/plain": [
              "array([[1545,   50],\n",
              "       [ 250,  155]])"
            ]
          },
          "metadata": {
            "tags": []
          },
          "execution_count": 45
        }
      ]
    },
    {
      "cell_type": "code",
      "metadata": {
        "id": "zaEFMcYxEx_U",
        "outputId": "ec5c13b5-5eae-4756-d5f1-3a44f93cc1e3",
        "colab": {
          "base_uri": "https://localhost:8080/",
          "height": 101
        }
      },
      "source": [
        "# printing matrix\n",
        "\n",
        "print('Neural Network Metrics')\n",
        "print('Accuracy  :' ,accuracy_score(y_test, predict_arr_thrshld))\n",
        "print('Precision :',precision_score(y_test, predict_arr_thrshld))\n",
        "print('Recall    :',recall_score(y_test, predict_arr_thrshld))\n",
        "print('F1 Score  :',f1_score(y_test, predict_arr_thrshld))"
      ],
      "execution_count": 46,
      "outputs": [
        {
          "output_type": "stream",
          "text": [
            "Neural Network Metrics\n",
            "Accuracy  : 0.85\n",
            "Precision : 0.7560975609756098\n",
            "Recall    : 0.38271604938271603\n",
            "F1 Score  : 0.5081967213114754\n"
          ],
          "name": "stdout"
        }
      ]
    },
    {
      "cell_type": "code",
      "metadata": {
        "id": "5ncIqvxpGDxD"
      },
      "source": [
        ""
      ],
      "execution_count": 46,
      "outputs": []
    }
  ]
}